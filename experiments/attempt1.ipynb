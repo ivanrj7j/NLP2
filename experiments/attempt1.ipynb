{
  "nbformat": 4,
  "nbformat_minor": 0,
  "metadata": {
    "colab": {
      "provenance": [],
      "gpuType": "T4"
    },
    "kernelspec": {
      "name": "python3",
      "display_name": "Python 3"
    },
    "language_info": {
      "name": "python"
    },
    "accelerator": "GPU"
  },
  "cells": [
    {
      "cell_type": "markdown",
      "source": [
        "# Attempt 2\n",
        "\n",
        "This is attempt #2 at creating a natural language base model\n",
        "\n",
        "Instead of handling tokenization on your own, you let keras handle that for you."
      ],
      "metadata": {
        "id": "8KVC_g6GyeJJ"
      }
    },
    {
      "cell_type": "markdown",
      "source": [
        "## Getting dependencies"
      ],
      "metadata": {
        "id": "epSZiXUxzMra"
      }
    },
    {
      "cell_type": "code",
      "execution_count": null,
      "metadata": {
        "id": "d-9QMrpCyX4z"
      },
      "outputs": [],
      "source": [
        "# !git clone https://github.com/ivanrj7j/NLP2\n",
        "# !pip install tokenizers"
      ]
    },
    {
      "cell_type": "code",
      "source": [
        "import tensorflow as tf\n",
        "import keras\n",
        "import pandas as pd\n",
        "import numpy as np"
      ],
      "metadata": {
        "id": "qF9jFT87zGuA"
      },
      "execution_count": 3,
      "outputs": []
    },
    {
      "cell_type": "code",
      "source": [
        "from DataLoader import TrainLoader"
      ],
      "metadata": {
        "id": "1wMgihrkMFnV"
      },
      "execution_count": 4,
      "outputs": []
    },
    {
      "cell_type": "code",
      "source": [
        "from keras.layers import Bidirectional, LSTM, Embedding, Dense, Dropout"
      ],
      "metadata": {
        "id": "kFZXpLk-NH_D"
      },
      "execution_count": 5,
      "outputs": []
    },
    {
      "cell_type": "code",
      "source": [
        "from keras.models import Sequential, Model"
      ],
      "metadata": {
        "id": "A5vjPvbcNW8M"
      },
      "execution_count": 6,
      "outputs": []
    },
    {
      "cell_type": "code",
      "source": [
        "from keras.callbacks import EarlyStopping"
      ],
      "metadata": {
        "id": "6vD9y1TzPFEw"
      },
      "execution_count": 7,
      "outputs": []
    },
    {
      "cell_type": "code",
      "source": [
        "from keras.optimizers import Adam"
      ],
      "metadata": {
        "id": "fbvTilcVxth7"
      },
      "execution_count": 8,
      "outputs": []
    },
    {
      "cell_type": "code",
      "source": [
        "from tokenizers import Tokenizer as t"
      ],
      "metadata": {
        "id": "7KsWyo2OV94L"
      },
      "execution_count": 26,
      "outputs": []
    },
    {
      "cell_type": "markdown",
      "source": [
        "## Loading data"
      ],
      "metadata": {
        "id": "Rgz3I45kzVyC"
      }
    },
    {
      "cell_type": "code",
      "source": [
        "trainDataset = TrainLoader(32, 25, \"/content/NLP2/data/tokenizer/tokens.json\", \"/content/NLP2/data/preprocessed/train.csv\", )\n",
        "validDataset = TrainLoader(32, 25, \"/content/NLP2/data/tokenizer/tokens.json\", \"/content/NLP2/data/preprocessed/valid.csv\", )"
      ],
      "metadata": {
        "id": "0BYNrQB_zUAQ"
      },
      "execution_count": 11,
      "outputs": []
    },
    {
      "cell_type": "markdown",
      "source": [
        "# Defining Model"
      ],
      "metadata": {
        "id": "KHXGHmz4NEas"
      }
    },
    {
      "cell_type": "code",
      "source": [
        "model = Sequential([\n",
        "    Embedding(30003, 1000),\n",
        "    Dropout(0.8),\n",
        "    Bidirectional(LSTM(100)),\n",
        "    Dropout(0.4),\n",
        "    Dense(30003, \"softmax\")\n",
        "    ])"
      ],
      "metadata": {
        "id": "ED7RoqXRNFoG"
      },
      "execution_count": 10,
      "outputs": []
    },
    {
      "cell_type": "markdown",
      "source": [
        "Experimental: check this out https://lilianweng.github.io/posts/2017-10-15-word-embedding/"
      ],
      "metadata": {
        "id": "XLr381rsOfRZ"
      }
    },
    {
      "cell_type": "code",
      "source": [
        "model.compile(\"adam\", \"categorical_crossentropy\", \"accuracy\")"
      ],
      "metadata": {
        "id": "o1Ags4fyODbF"
      },
      "execution_count": 12,
      "outputs": []
    },
    {
      "cell_type": "code",
      "source": [
        "model.summary()"
      ],
      "metadata": {
        "colab": {
          "base_uri": "https://localhost:8080/"
        },
        "id": "8kokMV5JOpzO",
        "outputId": "1af911e9-a98f-4eb1-8ed4-08e3047cf49c"
      },
      "execution_count": 13,
      "outputs": [
        {
          "output_type": "stream",
          "name": "stdout",
          "text": [
            "Model: \"sequential\"\n",
            "_________________________________________________________________\n",
            " Layer (type)                Output Shape              Param #   \n",
            "=================================================================\n",
            " embedding (Embedding)       (None, None, 1000)        30003000  \n",
            "                                                                 \n",
            " dropout (Dropout)           (None, None, 1000)        0         \n",
            "                                                                 \n",
            " bidirectional (Bidirection  (None, 200)               880800    \n",
            " al)                                                             \n",
            "                                                                 \n",
            " dropout_1 (Dropout)         (None, 200)               0         \n",
            "                                                                 \n",
            " dense (Dense)               (None, 30003)             6030603   \n",
            "                                                                 \n",
            "=================================================================\n",
            "Total params: 36914403 (140.82 MB)\n",
            "Trainable params: 36914403 (140.82 MB)\n",
            "Non-trainable params: 0 (0.00 Byte)\n",
            "_________________________________________________________________\n"
          ]
        }
      ]
    },
    {
      "cell_type": "code",
      "source": [
        "earlyStopper = EarlyStopping()"
      ],
      "metadata": {
        "id": "K-2v7T4IPBXa"
      },
      "execution_count": 14,
      "outputs": []
    },
    {
      "cell_type": "code",
      "source": [
        "history = model.fit(trainDataset.getTensorflowDataset(), epochs=50, callbacks=[earlyStopper], validation_data=validDataset.getTensorflowDataset())"
      ],
      "metadata": {
        "colab": {
          "base_uri": "https://localhost:8080/"
        },
        "id": "2VWG7pa7OsE6",
        "outputId": "703b216c-f7c8-44ae-efca-dd53984df3fc"
      },
      "execution_count": 15,
      "outputs": [
        {
          "output_type": "stream",
          "name": "stdout",
          "text": [
            "Epoch 1/50\n",
            "5166/5166 [==============================] - 290s 54ms/step - loss: 5.9037 - accuracy: 0.2845 - val_loss: 5.4351 - val_accuracy: 0.3174\n",
            "Epoch 2/50\n",
            "5166/5166 [==============================] - 246s 48ms/step - loss: 5.2118 - accuracy: 0.3233 - val_loss: 5.2391 - val_accuracy: 0.3365\n",
            "Epoch 3/50\n",
            "5166/5166 [==============================] - 251s 49ms/step - loss: 4.9240 - accuracy: 0.3404 - val_loss: 5.1691 - val_accuracy: 0.3470\n",
            "Epoch 4/50\n",
            "5166/5166 [==============================] - 249s 48ms/step - loss: 4.7453 - accuracy: 0.3501 - val_loss: 5.1472 - val_accuracy: 0.3522\n",
            "Epoch 5/50\n",
            "5166/5166 [==============================] - 246s 48ms/step - loss: 4.6128 - accuracy: 0.3577 - val_loss: 5.1335 - val_accuracy: 0.3564\n",
            "Epoch 6/50\n",
            "5166/5166 [==============================] - 247s 48ms/step - loss: 4.5227 - accuracy: 0.3626 - val_loss: 5.1464 - val_accuracy: 0.3604\n"
          ]
        }
      ]
    },
    {
      "cell_type": "code",
      "source": [
        "model.save(\"/content/drive/MyDrive/NLP Models/bidirectional.keras\")"
      ],
      "metadata": {
        "id": "QFZJJSp9ylmq"
      },
      "execution_count": 16,
      "outputs": []
    },
    {
      "cell_type": "code",
      "source": [
        "from matplotlib import pyplot as plt"
      ],
      "metadata": {
        "id": "3xg-dJV3U3XO"
      },
      "execution_count": 17,
      "outputs": []
    },
    {
      "cell_type": "code",
      "source": [
        "plt.plot(history.history[\"val_loss\"])\n",
        "plt.plot(history.history[\"loss\"])"
      ],
      "metadata": {
        "colab": {
          "base_uri": "https://localhost:8080/",
          "height": 447
        },
        "id": "OZ-bMy-jU6M6",
        "outputId": "cd3ff2eb-78b9-4026-cbae-35f07ba9f657"
      },
      "execution_count": 18,
      "outputs": [
        {
          "output_type": "execute_result",
          "data": {
            "text/plain": [
              "[<matplotlib.lines.Line2D at 0x7989a02d3cd0>]"
            ]
          },
          "metadata": {},
          "execution_count": 18
        },
        {
          "output_type": "display_data",
          "data": {
            "text/plain": [
              "<Figure size 640x480 with 1 Axes>"
            ],
            "image/png": "[encoded data removed]"
          },
          "metadata": {}
        }
      ]
    },
    {
      "cell_type": "code",
      "source": [
        "plt.plot(history.history[\"val_accuracy\"])\n",
        "plt.plot(history.history[\"accuracy\"])"
      ],
      "metadata": {
        "colab": {
          "base_uri": "https://localhost:8080/",
          "height": 447
        },
        "id": "XqyUcpFcVA8P",
        "outputId": "e97c03b3-bdfc-470f-def6-2675aec92176"
      },
      "execution_count": 19,
      "outputs": [
        {
          "output_type": "execute_result",
          "data": {
            "text/plain": [
              "[<matplotlib.lines.Line2D at 0x79898e0db880>]"
            ]
          },
          "metadata": {},
          "execution_count": 19
        },
        {
          "output_type": "display_data",
          "data": {
            "text/plain": [
              "<Figure size 640x480 with 1 Axes>"
            ],
            "image/png": "[encoded data removed]"
          },
          "metadata": {}
        }
      ]
    },
    {
      "cell_type": "code",
      "source": [
        "top_words = model.weights[0].numpy().argmax(axis=1)[-20:]"
      ],
      "metadata": {
        "id": "KRDC7nLbVdHU"
      },
      "execution_count": 52,
      "outputs": []
    },
    {
      "cell_type": "code",
      "source": [
        "tokenizer = t.from_file(\"/content/NLP2/data/tokenizer/tokens.json\")"
      ],
      "metadata": {
        "id": "rRovRd4KVx-a"
      },
      "execution_count": 27,
      "outputs": []
    },
    {
      "cell_type": "code",
      "source": [
        "tokenizer.decode(top_words)"
      ],
      "metadata": {
        "colab": {
          "base_uri": "https://localhost:8080/",
          "height": 35
        },
        "id": "EeqWIy15WGsk",
        "outputId": "32406f83-8574-4ac1-d2cf-a04a45ce0a41"
      },
      "execution_count": 53,
      "outputs": [
        {
          "output_type": "execute_result",
          "data": {
            "text/plain": [
              "'found ##ets ##ister country ##il _ ##any car ##ee ##ational The ##ere Mar ##00 fe government ##ets country ä ##uc'"
            ],
            "application/vnd.google.colaboratory.intrinsic+json": {
              "type": "string"
            }
          },
          "metadata": {},
          "execution_count": 53
        }
      ]
    },
    {
      "cell_type": "markdown",
      "source": [
        "Fortunately, the model didnt learn to always predict `the` after a word"
      ],
      "metadata": {
        "id": "VMzmK9ZoWO6V"
      }
    },
    {
      "cell_type": "code",
      "source": [
        "def prepareInput(text:str) -> np.ndarray:\n",
        "  tokens = np.array(tokenizer.encode(text).ids)\n",
        "\n",
        "  if tokens.shape[0] < 25:\n",
        "    tokens = np.pad(tokens, 25-tokens.shape[0], \"constant\")\n",
        "\n",
        "  return tokens[-25:]"
      ],
      "metadata": {
        "id": "sUVhzEPpWT46"
      },
      "execution_count": 31,
      "outputs": []
    },
    {
      "cell_type": "code",
      "source": [
        "def predictText(start:str, limit:int=100):\n",
        "  tokens = prepareInput(start)\n",
        "  sentence = start\n",
        "  for _ in range(limit):\n",
        "    prediction = model.predict(prepareInput(\"Media\").reshape(1, -1), verbose=False).argmax(axis=1)\n",
        "    tokens = np.hstack((tokens, prediction))[-25:]\n",
        "    sentence += \" \" + tokenizer.decode(prediction).replace('##', \"\")\n",
        "    print(sentence, end=\"\\r\")\n",
        "  print(tokens)\n",
        "  return sentence"
      ],
      "metadata": {
        "id": "iNhYAO76Wu1l"
      },
      "execution_count": 36,
      "outputs": []
    },
    {
      "cell_type": "code",
      "source": [
        "tokenizer.decode([11])"
      ],
      "metadata": {
        "colab": {
          "base_uri": "https://localhost:8080/",
          "height": 35
        },
        "id": "VLTTGEr-Yn35",
        "outputId": "ade81f32-d0c6-4dd5-bd3d-de7501255a52"
      },
      "execution_count": 42,
      "outputs": [
        {
          "output_type": "execute_result",
          "data": {
            "text/plain": [
              "'.'"
            ],
            "application/vnd.google.colaboratory.intrinsic+json": {
              "type": "string"
            }
          },
          "metadata": {},
          "execution_count": 42
        }
      ]
    },
    {
      "cell_type": "code",
      "source": [
        "predictText(\"NDA cleared more forestland\")"
      ],
      "metadata": {
        "colab": {
          "base_uri": "https://localhost:8080/",
          "height": 87
        },
        "id": "ETcoEYUZWy9k",
        "outputId": "0b208c47-6b40-458a-da0d-e6b2f41c7c2c"
      },
      "execution_count": 41,
      "outputs": [
        {
          "output_type": "stream",
          "name": "stdout",
          "text": [
            "[11 11 11 11 11 11 11 11 11 11 11 11 11 11 11 11 11 11 11 11 11 11 11 11\n",
            " 11]\n"
          ]
        },
        {
          "output_type": "execute_result",
          "data": {
            "text/plain": [
              "'NDA cleared more forestland . . . . . . . . . . . . . . . . . . . . . . . . . . . . . . . . . . . . . . . . . . . . . . . . . . . . . . . . . . . . . . . . . . . . . . . . . . . . . . . . . . . . . . . . . . . . . . . . . . . .'"
            ],
            "application/vnd.google.colaboratory.intrinsic+json": {
              "type": "string"
            }
          },
          "metadata": {},
          "execution_count": 41
        }
      ]
    },
    {
      "cell_type": "code",
      "source": [
        "model.weights[0].numpy()[11]"
      ],
      "metadata": {
        "colab": {
          "base_uri": "https://localhost:8080/"
        },
        "id": "zqBHWLJIXKaP",
        "outputId": "eda35dc3-8ac0-4973-f44e-22127c5060ab"
      },
      "execution_count": 38,
      "outputs": [
        {
          "output_type": "execute_result",
          "data": {
            "text/plain": [
              "array([-3.41917537e-02, -7.88571779e-03,  5.98518327e-02, -3.54569972e-01,\n",
              "        4.89931228e-03,  3.15519333e-01,  1.43009216e-01,  1.85680091e-01,\n",
              "        4.56575304e-02, -5.11725917e-02, -2.23605037e-01, -2.95493364e-01,\n",
              "        1.84612408e-01,  5.88005520e-02, -1.20413616e-01,  1.57268181e-01,\n",
              "        3.40173580e-02, -8.60684514e-02,  6.15965649e-02,  1.05822340e-01,\n",
              "        1.50400117e-01,  1.48345515e-01, -9.96255800e-02,  1.41415745e-01,\n",
              "        3.48683327e-01, -2.56958697e-02, -2.27705106e-01,  5.00842668e-02,\n",
              "        2.34871320e-02, -1.03040591e-01,  8.39054063e-02,  2.37643495e-02,\n",
              "       -9.46768224e-02,  6.61598071e-02, -9.07487944e-02, -1.96195364e-01,\n",
              "        2.12249935e-01,  2.03015476e-01,  1.45426556e-01,  7.97933191e-02,\n",
              "       -7.73835108e-02,  3.54808234e-02, -1.61401570e-01, -9.70863551e-02,\n",
              "        2.36601699e-02,  1.34221137e-01,  1.54447332e-01, -2.55455691e-02,\n",
              "       -1.17917508e-01,  2.36953162e-02, -1.02574028e-01,  2.07708120e-01,\n",
              "        2.80432969e-01,  1.60512626e-01, -2.79296637e-01,  1.10555001e-01,\n",
              "       -1.44582033e-01, -1.99848833e-03, -1.28606662e-01,  5.42434640e-02,\n",
              "        1.68851361e-01, -2.14112014e-01,  4.21028472e-02,  1.82770282e-01,\n",
              "       -1.91077322e-01, -8.11826214e-02, -6.86372221e-02,  1.89103603e-01,\n",
              "       -3.73796299e-02,  1.19059347e-02,  3.06458655e-03,  1.09501921e-01,\n",
              "       -3.17386650e-02,  8.22356641e-02, -1.75056890e-01, -1.09901711e-01,\n",
              "       -1.85589027e-02, -4.39318679e-02, -1.62942305e-01,  1.41109839e-01,\n",
              "        3.14998366e-02,  9.15396586e-02,  4.79855895e-01,  6.68174867e-03,\n",
              "        1.40572395e-02,  5.39634265e-02, -1.42231127e-02,  1.18824467e-01,\n",
              "        1.17485244e-02,  1.59573108e-01, -1.20312952e-01,  2.04193443e-01,\n",
              "       -2.60829479e-01, -1.61335636e-02,  2.37067975e-02,  6.81933537e-02,\n",
              "        1.17877021e-01,  1.97524861e-01, -7.49984831e-02, -2.25133672e-02,\n",
              "        9.61914584e-02, -3.91080618e-01,  6.64353520e-02, -1.10290617e-01,\n",
              "       -2.18955353e-02, -6.11510165e-02, -7.01132566e-02,  2.58367211e-01,\n",
              "        1.21195264e-01,  8.52735415e-02,  7.10127726e-02, -9.51625109e-02,\n",
              "       -7.43684471e-02,  2.61581779e-01,  4.58634123e-02, -1.76786166e-02,\n",
              "        1.36394218e-01, -1.10705398e-01,  1.22347146e-01, -9.88525599e-02,\n",
              "       -1.88584492e-01, -9.00087804e-02, -2.68234722e-02,  1.10821780e-02,\n",
              "        1.53123751e-01,  5.95893636e-02,  6.13850765e-02, -1.00489125e-01,\n",
              "       -1.51715964e-01, -8.23499262e-02, -1.13303132e-01, -1.09352760e-01,\n",
              "       -7.77691137e-03, -1.99217826e-01, -5.54917865e-02, -1.27694935e-01,\n",
              "        1.59533843e-01,  4.93476242e-02,  1.90180112e-02, -1.46325991e-01,\n",
              "        1.48656979e-01, -1.68706521e-01,  2.48220995e-01,  1.14559904e-01,\n",
              "        9.47321653e-02, -1.19340315e-01, -6.62550926e-02, -1.05295507e-02,\n",
              "        6.43451065e-02,  2.81296447e-02,  1.55922517e-01, -7.31517375e-02,\n",
              "        4.39306237e-02,  2.13635229e-02,  1.38033181e-01,  1.44588828e-01,\n",
              "        2.98738889e-02, -1.04819108e-02,  8.72411504e-02,  1.41688496e-01,\n",
              "        1.55747175e-01, -9.02575105e-02,  1.64007559e-01, -3.07599604e-01,\n",
              "        3.77816111e-02, -1.08096026e-01, -2.66305894e-01, -1.72669992e-01,\n",
              "       -8.21051523e-02, -1.56581312e-01, -7.08224624e-02, -1.22013971e-01,\n",
              "       -9.39536095e-03, -1.82266429e-01, -2.57243905e-02,  2.37067506e-01,\n",
              "        9.18540806e-02,  1.24514304e-01,  1.05522513e-01, -2.66765267e-01,\n",
              "       -4.69338521e-02,  2.81670168e-02, -9.65356976e-02,  8.14798549e-02,\n",
              "        8.89115781e-03, -1.46868989e-01,  1.23262584e-01,  3.40923741e-02,\n",
              "       -4.65165287e-01, -3.15990523e-02,  3.21958989e-01,  1.61690399e-01,\n",
              "       -2.68794615e-02, -1.09204076e-01,  2.28849515e-01, -1.33835360e-01,\n",
              "        5.47256470e-02, -1.98894471e-01, -7.64935538e-02, -1.82040304e-01,\n",
              "       -1.08206719e-02,  3.24452668e-01,  9.48569626e-02,  1.17458608e-02,\n",
              "       -3.70007148e-03,  1.01238221e-01, -1.12856008e-01, -3.74338478e-02,\n",
              "       -6.27758056e-02, -2.69718338e-02,  5.03908157e-01, -2.57666912e-02,\n",
              "       -3.36011767e-01, -6.23434670e-02, -1.52852461e-01,  8.61059800e-02,\n",
              "        2.50216901e-01,  1.45081624e-01, -1.07478864e-01,  6.32464811e-02,\n",
              "       -1.38724998e-01, -5.70688173e-02, -1.84358835e-01,  1.67992860e-01,\n",
              "        2.20260948e-01,  1.05470799e-01,  1.14699259e-01,  5.70069700e-02,\n",
              "       -2.97796756e-01, -1.05301462e-01, -5.76221421e-02, -1.19804032e-01,\n",
              "       -7.39666745e-02, -3.47208567e-02,  2.64267325e-01,  3.00825387e-01,\n",
              "       -2.29596510e-03, -1.01444602e-01,  6.79494292e-02,  1.21524826e-01,\n",
              "       -7.03160390e-02, -1.83752384e-02,  2.57805228e-01,  9.61842090e-02,\n",
              "       -6.47216802e-06,  1.87745661e-01,  3.88716310e-01, -1.74975827e-01,\n",
              "        5.40306494e-02, -1.88216299e-01, -1.92726597e-01,  1.15345754e-01,\n",
              "       -1.31409153e-01,  3.37305628e-02,  8.89705643e-02,  5.11850528e-02,\n",
              "        7.80662745e-02, -4.26085621e-01,  2.17394829e-01,  1.31313419e-02,\n",
              "        1.73001498e-01,  4.16338108e-02,  1.32745309e-02, -2.56493866e-01,\n",
              "        1.11280784e-01,  1.60571754e-01, -2.33559340e-01, -1.37248576e-01,\n",
              "       -1.76151410e-01, -1.11479297e-01,  2.96778262e-01,  1.98736675e-02,\n",
              "        1.59191757e-01, -1.58415493e-02,  2.34102070e-01,  2.24848613e-01,\n",
              "        1.98725164e-01, -8.60517845e-02, -1.61142964e-02, -2.78704315e-01,\n",
              "        7.14076459e-02, -3.38295139e-02,  8.63913354e-03, -1.14186004e-01,\n",
              "       -1.36057109e-01, -2.02283058e-02, -1.19470902e-01,  2.40571454e-01,\n",
              "       -1.48287117e-01,  2.48499438e-01, -8.94602984e-02, -4.51465882e-03,\n",
              "       -4.68740910e-02,  2.66775433e-02,  8.19026753e-02,  2.99667846e-02,\n",
              "        2.44464338e-01, -1.66623220e-01,  1.45595139e-02,  8.37526005e-03,\n",
              "        7.09178001e-02, -2.81511754e-01, -3.56166554e-03,  2.67014150e-02,\n",
              "        2.46126115e-01,  3.15293260e-02,  2.70921558e-01,  1.40087172e-01,\n",
              "        4.16542590e-02, -2.46309876e-01,  1.20846756e-01,  3.79925013e-01,\n",
              "       -4.26840514e-01, -4.27552275e-02,  6.30535260e-02, -2.51168460e-01,\n",
              "       -1.33981630e-01, -4.26997244e-02, -2.71817923e-01, -1.59228861e-01,\n",
              "       -2.25342275e-03,  6.76884651e-02, -5.14018759e-02,  1.68596342e-01,\n",
              "        2.83160865e-01, -8.66249800e-02, -1.28116280e-01, -7.05457553e-02,\n",
              "        6.15903037e-03,  5.38219027e-02, -3.06559682e-01,  4.05006297e-02,\n",
              "        2.84277529e-01, -1.89313591e-01, -1.43954918e-01, -1.04487285e-01,\n",
              "       -3.42750736e-02,  1.48263216e-01, -1.15731902e-01, -2.46153355e-01,\n",
              "        2.42068112e-01,  5.40082417e-02,  3.03310931e-01, -3.39531153e-02,\n",
              "        1.30436465e-01,  1.64750651e-01,  4.59640503e-01, -2.14168891e-01,\n",
              "        1.17545553e-01, -9.57469121e-02,  5.88392392e-02, -4.07197267e-01,\n",
              "        8.06125104e-02,  2.00814396e-01, -2.55941655e-02, -9.88770798e-02,\n",
              "        1.86945513e-01,  8.97980332e-02, -2.39915639e-01, -1.98853165e-01,\n",
              "       -1.40008390e-01, -8.95482674e-02, -1.86105967e-01, -1.94064677e-01,\n",
              "       -1.73197091e-01,  1.74882844e-01,  1.84529766e-01, -1.89961433e-01,\n",
              "       -5.55419810e-02,  1.29241526e-01, -1.34720847e-01, -5.51275797e-02,\n",
              "       -1.97409451e-01,  1.33923307e-01, -1.25313699e-01,  1.72441173e-02,\n",
              "       -7.49575719e-02,  3.07753868e-02, -3.56620587e-02,  7.44095072e-02,\n",
              "        9.11283717e-02, -1.05752587e-01,  1.73495829e-01,  1.27634138e-01,\n",
              "        2.82009423e-01, -1.16619721e-01, -1.37290671e-01,  2.37199411e-01,\n",
              "       -2.71054972e-02, -9.88300145e-02,  4.72084135e-02, -1.45328984e-01,\n",
              "        9.05221328e-03,  5.29978052e-02,  1.71667054e-01, -6.16008118e-02,\n",
              "        9.86318737e-02, -4.71584359e-03, -2.90372640e-01,  1.39996976e-01,\n",
              "       -1.30806789e-01, -2.70392388e-01,  5.83052002e-02, -7.65630901e-02,\n",
              "        1.01784959e-01,  1.71067752e-02,  2.87312657e-01,  1.93350747e-01,\n",
              "       -1.40251830e-01,  1.14413768e-01, -1.32907480e-01, -2.28316914e-02,\n",
              "        8.20072815e-02,  5.06918803e-02,  2.14667618e-03, -7.85692260e-02,\n",
              "        1.57631963e-01,  2.55042668e-02,  5.78724183e-02,  7.44633973e-02,\n",
              "       -1.64155751e-01,  1.43323347e-01,  1.67918776e-03,  1.79056227e-01,\n",
              "       -4.99786586e-02,  5.35272509e-02,  1.76803082e-01, -7.28076845e-02,\n",
              "       -3.48026752e-02, -1.73526466e-01, -2.04712108e-01,  2.98443362e-02,\n",
              "        3.30942720e-01, -2.05806985e-01,  3.67945731e-01, -2.65786082e-01,\n",
              "       -9.14414134e-03, -1.32924411e-02, -1.13388576e-01, -7.29047507e-03,\n",
              "       -9.73025560e-02, -1.82391852e-01,  1.07960820e-01,  4.72127981e-02,\n",
              "       -4.32625636e-02, -1.88210368e-01, -1.37624860e-01, -1.45986125e-01,\n",
              "       -3.91135141e-02,  3.50406095e-02, -2.55747736e-01,  3.45674902e-02,\n",
              "       -7.61521980e-03,  7.82784894e-02,  1.37011722e-01,  1.90803841e-01,\n",
              "        8.40510055e-02, -7.34261200e-02,  2.74800837e-01, -8.23251233e-02,\n",
              "       -1.49680823e-01,  2.82931495e-02,  1.06164947e-01, -2.15222478e-01,\n",
              "       -3.12714726e-01,  1.27470583e-01, -6.65665492e-02,  1.47344112e-01,\n",
              "       -3.91746499e-02, -4.03766297e-02,  1.55157670e-01,  2.41502263e-02,\n",
              "       -1.17694244e-01,  1.26830399e-01,  1.19782381e-01,  2.43075974e-02,\n",
              "        9.22785699e-02, -1.29368544e-01,  2.34035507e-01, -8.50559771e-03,\n",
              "       -1.21871054e-01,  6.79924712e-02,  1.72957908e-02,  1.15896069e-01,\n",
              "        3.24963808e-01, -2.76561975e-01,  9.31038633e-02, -3.63501832e-02,\n",
              "        5.17271385e-02, -4.15833890e-02, -9.73959416e-02,  7.86965191e-02,\n",
              "        1.34717003e-01,  1.77403465e-01, -1.04711339e-01,  1.10333323e-01,\n",
              "        3.82104889e-03, -3.79052684e-02, -1.02859028e-01, -1.73007280e-01,\n",
              "       -2.17921361e-02,  1.34280741e-01, -1.81231573e-02, -2.45795846e-01,\n",
              "        1.15954794e-01,  6.15689624e-03,  2.67712414e-01,  1.62122503e-01,\n",
              "        1.25324637e-01, -2.83178985e-01,  2.13293862e-02,  1.95510760e-01,\n",
              "       -5.39976880e-02,  8.99575576e-02, -6.88504949e-02,  2.89916486e-01,\n",
              "       -2.58879423e-01, -2.40634903e-01, -2.49122128e-01,  1.67728752e-01,\n",
              "        2.51858145e-01, -8.00467059e-02, -2.62276568e-02, -9.03625935e-02,\n",
              "        2.58710831e-02,  1.03957523e-02, -8.94179940e-02,  4.17166501e-02,\n",
              "        1.44170672e-01,  1.57381907e-01,  3.31947133e-02, -1.75726458e-01,\n",
              "       -3.97196822e-02,  1.32508039e-01,  8.34741443e-02,  1.02648728e-01,\n",
              "       -4.67868373e-02, -1.40735999e-01,  1.21466070e-03,  1.35465562e-01,\n",
              "        7.20315799e-03,  4.27531078e-02,  5.27986810e-02,  1.39212251e-01,\n",
              "        2.29426980e-01,  2.51165211e-01,  6.96715415e-02,  7.14989975e-02,\n",
              "       -9.95954052e-02,  5.59767261e-02, -1.33641377e-01, -2.74244666e-01,\n",
              "        9.17008147e-02, -4.34046909e-02,  1.12541743e-01, -8.23222846e-02,\n",
              "       -2.16764044e-02,  3.47638726e-02, -4.41559553e-02, -6.01194724e-02,\n",
              "        3.27001601e-01,  2.12706432e-01, -3.81660089e-02,  1.90372333e-01,\n",
              "        1.02785692e-01,  9.83782951e-03,  2.27821395e-01,  3.74832116e-02,\n",
              "        2.32188106e-01, -2.34358594e-01,  5.60962595e-02,  1.29534632e-01,\n",
              "       -1.53447799e-02,  2.09157392e-01, -2.96327863e-02,  2.97456414e-01,\n",
              "       -1.03733063e-01, -2.73241371e-01, -3.00938070e-01,  5.30391335e-02,\n",
              "       -2.18459010e-01,  1.67481840e-01, -5.63945528e-03, -9.99825448e-02,\n",
              "        5.17294370e-02,  5.35165109e-02,  3.68556917e-01, -1.46783888e-01,\n",
              "        2.72670031e-01,  2.17378289e-02, -1.93779156e-01, -1.58523943e-03,\n",
              "       -3.16781759e-01, -6.17839582e-02,  1.23165481e-01, -1.94729611e-01,\n",
              "        1.34491026e-01, -3.25857699e-02,  3.04590106e-01,  4.93314229e-02,\n",
              "        2.46394530e-01, -6.21482637e-03, -9.50762779e-02, -6.11570850e-02,\n",
              "       -8.55168700e-02,  1.32385166e-02,  2.59731710e-01,  2.15178624e-01,\n",
              "       -1.23146968e-02, -2.19236404e-01, -2.32508276e-02, -2.30734218e-02,\n",
              "       -3.14851522e-01,  3.09415217e-02, -2.25413546e-01,  1.32844523e-01,\n",
              "        3.37826461e-01, -8.59450474e-02,  2.34530136e-01, -2.04177037e-01,\n",
              "        1.36393741e-01, -1.41251355e-01,  4.49958384e-01, -1.02838084e-01,\n",
              "       -1.19145684e-01,  2.46688560e-01, -3.17117162e-02,  1.89195871e-01,\n",
              "       -3.25241983e-01, -1.16466492e-01,  2.18283147e-01,  4.62050363e-02,\n",
              "       -1.59763485e-01, -1.43810943e-01,  1.64252833e-01, -2.74798930e-01,\n",
              "       -6.61203116e-02, -9.76928398e-02, -2.38522172e-01, -3.92147973e-02,\n",
              "       -7.82221109e-02,  2.72510946e-01, -3.22336555e-02, -6.80763349e-02,\n",
              "        3.45727533e-01, -2.76610434e-01,  4.52156961e-02, -1.09216616e-01,\n",
              "       -3.75960860e-03,  2.01255307e-02,  4.23058033e-01, -2.69102693e-01,\n",
              "        9.84185636e-02,  1.14479497e-01,  6.33048862e-02,  6.86743408e-02,\n",
              "       -1.72160774e-01,  1.06013176e-04,  1.67602867e-01, -3.89534645e-02,\n",
              "       -2.39306986e-02,  1.91610038e-01,  2.17898130e-01, -2.84025937e-01,\n",
              "        4.55877418e-03,  1.16550431e-01,  1.74430475e-01,  1.23990506e-01,\n",
              "       -1.37214184e-01, -6.09050132e-02,  9.63690206e-02, -8.29495192e-02,\n",
              "        2.40536407e-01, -8.39623809e-02, -6.00686260e-02,  3.33610982e-01,\n",
              "        1.57050684e-01,  2.60387689e-01, -1.32337630e-01,  1.13256492e-01,\n",
              "        3.09031084e-02, -9.88682210e-02,  1.06160566e-01, -5.93130924e-02,\n",
              "        1.03235401e-01, -9.11572650e-02, -1.61037948e-02, -3.15034568e-01,\n",
              "       -3.28446962e-02, -1.81197330e-01,  2.26391286e-01, -1.17625464e-02,\n",
              "        1.87537581e-01, -4.58605997e-02, -1.81745008e-01,  9.76834074e-02,\n",
              "        1.54249698e-01,  5.02002239e-02,  1.69368461e-01,  6.60264641e-02,\n",
              "       -2.01457754e-01,  1.18811660e-01, -9.66474618e-05,  3.76474231e-01,\n",
              "       -4.20095809e-02, -2.50216238e-02, -2.94047266e-01, -1.83328047e-01,\n",
              "        8.82228557e-03, -9.47036147e-02,  1.26695096e-01,  1.02884896e-01,\n",
              "       -2.41537509e-03, -2.12455943e-01, -3.47497985e-02,  6.16407394e-02,\n",
              "        1.02041148e-01,  1.97032187e-03,  1.32378042e-01,  1.60293400e-01,\n",
              "        7.55085126e-02,  9.40888450e-02, -7.24247992e-02,  2.28786826e-01,\n",
              "       -1.52461305e-01,  1.60479575e-01,  6.83111846e-02, -5.64268092e-03,\n",
              "       -2.98031986e-01,  4.65599187e-02, -3.98840606e-02,  2.59081751e-01,\n",
              "        3.35261911e-01, -1.18667774e-01,  1.55818969e-01,  2.26767436e-01,\n",
              "        1.06814340e-01, -2.31107026e-01,  5.07411323e-02,  1.88806847e-01,\n",
              "       -9.29291453e-03,  1.76094398e-02, -1.85862228e-01,  2.17061669e-01,\n",
              "       -6.13668151e-02, -3.79515737e-02, -1.93261012e-01,  6.77826405e-02,\n",
              "       -1.23552163e-04, -2.68922657e-01, -3.11605692e-01, -3.06194834e-02,\n",
              "        2.31410936e-02, -1.37170359e-01, -1.43965065e-01,  1.78665876e-01,\n",
              "        7.28310049e-02, -2.44605809e-01, -7.23545551e-02, -3.77210118e-02,\n",
              "       -2.34902482e-02,  1.80853456e-01,  6.95219114e-02,  7.91783556e-02,\n",
              "        1.64623246e-01,  9.72823426e-02, -3.19460104e-03, -3.65144685e-02,\n",
              "        1.01987205e-01,  3.64953987e-02, -1.96262956e-01, -2.04434752e-01,\n",
              "        1.67809710e-01, -9.33663771e-02, -1.54473647e-01,  7.48943388e-02,\n",
              "        4.03916985e-02, -2.55133271e-01, -1.37909338e-01, -1.52413756e-01,\n",
              "       -5.79086738e-03, -1.99503407e-01,  1.43507659e-01, -1.93002731e-01,\n",
              "       -2.76078492e-01, -2.95254271e-02, -6.64167255e-02,  3.25896144e-01,\n",
              "       -9.63148475e-03, -1.16365544e-01, -1.98414009e-02, -6.69344291e-02,\n",
              "       -1.13619328e-01,  3.62773910e-02,  3.59427333e-02,  1.40527859e-01,\n",
              "        2.89322108e-01, -1.02668755e-01, -2.69714475e-01, -4.09610663e-03,\n",
              "       -9.45109129e-03, -1.28600836e-01, -3.00773561e-01, -2.02798873e-01,\n",
              "        1.93963349e-01,  6.95555210e-02,  1.12694271e-01, -1.21628411e-01,\n",
              "        2.03410890e-02,  1.18797846e-01, -8.13449919e-02,  1.33277282e-01,\n",
              "       -1.31231159e-01, -3.65454257e-02,  4.73034084e-02,  9.63335335e-02,\n",
              "       -5.69240823e-02, -1.33429080e-01,  4.40436676e-02, -5.60666844e-02,\n",
              "       -1.19999116e-02,  2.23959252e-01, -1.65080726e-01,  5.96983656e-02,\n",
              "       -3.78935337e-01, -6.26387373e-02,  2.74729043e-01, -1.44032896e-01,\n",
              "        6.20549824e-03,  3.61149967e-01,  1.50875211e-01, -8.40891376e-02,\n",
              "        3.05745658e-02, -2.26159990e-02,  5.18808365e-02,  1.34728655e-01,\n",
              "        7.34405667e-02,  1.90743372e-01,  3.10623590e-02, -9.63539556e-02,\n",
              "        2.05125827e-02,  8.67964476e-02, -4.78460714e-02, -2.53027231e-02,\n",
              "        2.08151042e-01, -2.54336566e-01, -1.99770361e-01, -2.16416687e-01,\n",
              "       -3.77672613e-01,  1.02303177e-01,  1.36095241e-01, -2.26455498e-02,\n",
              "        2.93301046e-01, -1.12917554e-02, -1.16403200e-01, -2.88563550e-01,\n",
              "       -1.94082949e-02,  3.19738612e-02, -1.18238784e-01, -5.22879232e-03,\n",
              "       -1.59920622e-02,  1.77232847e-02,  1.30429476e-01,  2.97325477e-02,\n",
              "       -1.67398065e-01, -1.87249050e-01, -3.20181757e-01, -4.70726341e-02,\n",
              "        1.05945535e-01, -1.73696637e-01,  5.57456091e-02, -8.18303153e-02,\n",
              "       -6.94259210e-03,  1.32035956e-01, -4.86373827e-02,  7.94567615e-02,\n",
              "       -1.46943361e-01,  1.46621078e-01, -2.06808418e-01, -1.78662967e-02,\n",
              "       -1.31957620e-01,  2.48953328e-01,  2.58516939e-03, -5.09043969e-03,\n",
              "        4.04197544e-01,  2.43022382e-01, -3.00572395e-01,  9.34597328e-02,\n",
              "        1.99722841e-01, -6.50724024e-02,  3.43686156e-02,  9.69302505e-02,\n",
              "        5.68658859e-02, -2.08641887e-01, -1.32746428e-01,  2.14637309e-01,\n",
              "        1.54270381e-01, -8.77931118e-02,  1.83108285e-01, -1.69660598e-01,\n",
              "        1.58283696e-01,  2.28193942e-02, -5.75091094e-02, -3.47159728e-02,\n",
              "       -1.98455900e-02, -1.92523882e-01, -2.35122666e-02,  1.56985968e-01,\n",
              "        2.11325735e-01,  1.89008221e-01,  7.27336854e-02,  1.00623019e-01,\n",
              "       -1.26366407e-01, -8.02219212e-02, -9.94659141e-02,  6.21905960e-02,\n",
              "        2.61627492e-02, -2.35417694e-01, -1.31546095e-01, -1.02783948e-01,\n",
              "        9.18458775e-02, -6.15767166e-02, -2.81089783e-01, -1.73154548e-02,\n",
              "        1.15387097e-01, -1.11491740e-01,  3.64202000e-02, -5.74018806e-03,\n",
              "        1.57070637e-01,  1.32934481e-01, -5.99268416e-04, -3.48515138e-02,\n",
              "        9.89876166e-02,  4.21980582e-02,  1.84595823e-01,  5.20005301e-02,\n",
              "        1.67136088e-01,  4.85645272e-02,  4.60729629e-01,  4.99332957e-02,\n",
              "       -4.86929454e-02, -6.54609427e-02, -1.44431934e-01, -1.84932306e-01,\n",
              "        1.93729058e-01,  2.93480396e-01,  2.21495956e-01, -1.34668142e-01,\n",
              "       -2.45594814e-01,  1.18618697e-01, -2.46124059e-01, -1.14821427e-01,\n",
              "       -2.36385297e-02, -5.33668697e-02,  1.54116731e-02,  1.04942255e-01,\n",
              "       -1.39249265e-01,  2.72530764e-01, -2.29115561e-01,  3.61256562e-02,\n",
              "        3.05201449e-02, -3.04324210e-01,  1.94238812e-01,  1.13875166e-01,\n",
              "       -9.14265290e-02,  1.96202010e-01,  9.60408077e-02, -1.79501534e-01,\n",
              "       -8.78828391e-03, -5.46776839e-02, -1.21069342e-01, -1.75923690e-01,\n",
              "        1.35078385e-01,  3.12679932e-02, -1.04960658e-01,  3.64930704e-02,\n",
              "        7.05610812e-02,  1.17821641e-01,  2.29759350e-01, -1.41819581e-01,\n",
              "       -1.00241743e-01,  1.32723689e-01, -2.59377539e-01, -1.30553797e-01,\n",
              "       -2.75825858e-01, -1.43656090e-01, -3.28901142e-01, -6.98587000e-02,\n",
              "       -4.86264601e-02, -3.50216515e-02, -1.13488197e-01, -2.77093738e-01,\n",
              "       -2.02813208e-01, -5.05668335e-02, -1.68184355e-01,  4.39723469e-02,\n",
              "       -3.81219611e-02, -7.82549307e-02,  1.93160117e-01, -1.03033140e-01],\n",
              "      dtype=float32)"
            ]
          },
          "metadata": {},
          "execution_count": 38
        }
      ]
    },
    {
      "cell_type": "markdown",
      "source": [
        "Found the problem with the model: The training data had whole sentences, since most of the sentences end with `.`, the model learned to always predict `.` to get high accuracy."
      ],
      "metadata": {
        "id": "0xfK_E3sZmU7"
      }
    },
    {
      "cell_type": "code",
      "source": [],
      "metadata": {
        "id": "ZY1B75V2Z6u2"
      },
      "execution_count": null,
      "outputs": []
    }
  ]
}